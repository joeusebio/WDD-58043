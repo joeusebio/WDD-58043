{
  "nbformat": 4,
  "nbformat_minor": 0,
  "metadata": {
    "colab": {
      "name": "Untitled17.ipynb",
      "provenance": [],
      "authorship_tag": "ABX9TyP76clSsVKZyEhvVKJXZnlv",
      "include_colab_link": true
    },
    "kernelspec": {
      "name": "python3",
      "display_name": "Python 3"
    },
    "language_info": {
      "name": "python"
    }
  },
  "cells": [
    {
      "cell_type": "markdown",
      "metadata": {
        "id": "view-in-github",
        "colab_type": "text"
      },
      "source": [
        "<a href=\"https://colab.research.google.com/github/joeusebio/WDD-58043/blob/main/Untitled17.ipynb\" target=\"_parent\"><img src=\"https://colab.research.google.com/assets/colab-badge.svg\" alt=\"Open In Colab\"/></a>"
      ]
    },
    {
      "cell_type": "code",
      "execution_count": 9,
      "metadata": {
        "colab": {
          "base_uri": "https://localhost:8080/"
        },
        "id": "SK8JUY7pVUkE",
        "outputId": "82d1f18c-a4e1-4780-ad1d-3ae6e51ad16a"
      },
      "outputs": [
        {
          "output_type": "stream",
          "name": "stdout",
          "text": [
            "Enter the radius of circle:5\n",
            "Area of circle = 78.50\n"
          ]
        }
      ],
      "source": [
        "import numpy as np\n",
        "PI= 3.14\n",
        "r= float(input(\"Enter the radius of circle:\"))\n",
        "area= PI*r*r\n",
        "print(\"Area of circle = %.2f\" %area)\n"
      ]
    }
  ]
}